{
  "nbformat": 4,
  "nbformat_minor": 0,
  "metadata": {
    "colab": {
      "name": "JAX_MNIST",
      "provenance": [],
      "collapsed_sections": [],
      "authorship_tag": "ABX9TyNGQ9jMtn4D0dtmWvfPB902",
      "include_colab_link": true
    },
    "kernelspec": {
      "name": "python3",
      "display_name": "Python 3"
    },
    "accelerator": "TPU",
    "widgets": {
      "application/vnd.jupyter.widget-state+json": {
        "7c4f739e84dd4907a8dcad8e146c0b2f": {
          "model_module": "@jupyter-widgets/controls",
          "model_name": "HBoxModel",
          "state": {
            "_view_name": "HBoxView",
            "_dom_classes": [],
            "_model_name": "HBoxModel",
            "_view_module": "@jupyter-widgets/controls",
            "_model_module_version": "1.5.0",
            "_view_count": null,
            "_view_module_version": "1.5.0",
            "box_style": "",
            "layout": "IPY_MODEL_d4f642a794f94a86bdbd14be8d9271c6",
            "_model_module": "@jupyter-widgets/controls",
            "children": [
              "IPY_MODEL_1109971376cd44cea9ff51d766506651",
              "IPY_MODEL_e3117a128a5e431dad3ee2ad1c434445"
            ]
          }
        },
        "d4f642a794f94a86bdbd14be8d9271c6": {
          "model_module": "@jupyter-widgets/base",
          "model_name": "LayoutModel",
          "state": {
            "_view_name": "LayoutView",
            "grid_template_rows": null,
            "right": null,
            "justify_content": null,
            "_view_module": "@jupyter-widgets/base",
            "overflow": null,
            "_model_module_version": "1.2.0",
            "_view_count": null,
            "flex_flow": null,
            "width": null,
            "min_width": null,
            "border": null,
            "align_items": null,
            "bottom": null,
            "_model_module": "@jupyter-widgets/base",
            "top": null,
            "grid_column": null,
            "overflow_y": null,
            "overflow_x": null,
            "grid_auto_flow": null,
            "grid_area": null,
            "grid_template_columns": null,
            "flex": null,
            "_model_name": "LayoutModel",
            "justify_items": null,
            "grid_row": null,
            "max_height": null,
            "align_content": null,
            "visibility": null,
            "align_self": null,
            "height": null,
            "min_height": null,
            "padding": null,
            "grid_auto_rows": null,
            "grid_gap": null,
            "max_width": null,
            "order": null,
            "_view_module_version": "1.2.0",
            "grid_template_areas": null,
            "object_position": null,
            "object_fit": null,
            "grid_auto_columns": null,
            "margin": null,
            "display": null,
            "left": null
          }
        },
        "1109971376cd44cea9ff51d766506651": {
          "model_module": "@jupyter-widgets/controls",
          "model_name": "FloatProgressModel",
          "state": {
            "_view_name": "ProgressView",
            "style": "IPY_MODEL_af20035716a74a1597fcef8b953a8ad3",
            "_dom_classes": [],
            "description": "Dl Completed...: 100%",
            "_model_name": "FloatProgressModel",
            "bar_style": "success",
            "max": 4,
            "_view_module": "@jupyter-widgets/controls",
            "_model_module_version": "1.5.0",
            "value": 4,
            "_view_count": null,
            "_view_module_version": "1.5.0",
            "orientation": "horizontal",
            "min": 0,
            "description_tooltip": null,
            "_model_module": "@jupyter-widgets/controls",
            "layout": "IPY_MODEL_3950e78ff9094f0caa66097c0566dbd0"
          }
        },
        "e3117a128a5e431dad3ee2ad1c434445": {
          "model_module": "@jupyter-widgets/controls",
          "model_name": "HTMLModel",
          "state": {
            "_view_name": "HTMLView",
            "style": "IPY_MODEL_a9f271ecf62f48aa94845cc0f2068910",
            "_dom_classes": [],
            "description": "",
            "_model_name": "HTMLModel",
            "placeholder": "​",
            "_view_module": "@jupyter-widgets/controls",
            "_model_module_version": "1.5.0",
            "value": " 4/4 [00:01&lt;00:00,  3.30 file/s]",
            "_view_count": null,
            "_view_module_version": "1.5.0",
            "description_tooltip": null,
            "_model_module": "@jupyter-widgets/controls",
            "layout": "IPY_MODEL_ecaca0a7c3c94e99aaaa6237033b38e0"
          }
        },
        "af20035716a74a1597fcef8b953a8ad3": {
          "model_module": "@jupyter-widgets/controls",
          "model_name": "ProgressStyleModel",
          "state": {
            "_view_name": "StyleView",
            "_model_name": "ProgressStyleModel",
            "description_width": "initial",
            "_view_module": "@jupyter-widgets/base",
            "_model_module_version": "1.5.0",
            "_view_count": null,
            "_view_module_version": "1.2.0",
            "bar_color": null,
            "_model_module": "@jupyter-widgets/controls"
          }
        },
        "3950e78ff9094f0caa66097c0566dbd0": {
          "model_module": "@jupyter-widgets/base",
          "model_name": "LayoutModel",
          "state": {
            "_view_name": "LayoutView",
            "grid_template_rows": null,
            "right": null,
            "justify_content": null,
            "_view_module": "@jupyter-widgets/base",
            "overflow": null,
            "_model_module_version": "1.2.0",
            "_view_count": null,
            "flex_flow": null,
            "width": null,
            "min_width": null,
            "border": null,
            "align_items": null,
            "bottom": null,
            "_model_module": "@jupyter-widgets/base",
            "top": null,
            "grid_column": null,
            "overflow_y": null,
            "overflow_x": null,
            "grid_auto_flow": null,
            "grid_area": null,
            "grid_template_columns": null,
            "flex": null,
            "_model_name": "LayoutModel",
            "justify_items": null,
            "grid_row": null,
            "max_height": null,
            "align_content": null,
            "visibility": null,
            "align_self": null,
            "height": null,
            "min_height": null,
            "padding": null,
            "grid_auto_rows": null,
            "grid_gap": null,
            "max_width": null,
            "order": null,
            "_view_module_version": "1.2.0",
            "grid_template_areas": null,
            "object_position": null,
            "object_fit": null,
            "grid_auto_columns": null,
            "margin": null,
            "display": null,
            "left": null
          }
        },
        "a9f271ecf62f48aa94845cc0f2068910": {
          "model_module": "@jupyter-widgets/controls",
          "model_name": "DescriptionStyleModel",
          "state": {
            "_view_name": "StyleView",
            "_model_name": "DescriptionStyleModel",
            "description_width": "",
            "_view_module": "@jupyter-widgets/base",
            "_model_module_version": "1.5.0",
            "_view_count": null,
            "_view_module_version": "1.2.0",
            "_model_module": "@jupyter-widgets/controls"
          }
        },
        "ecaca0a7c3c94e99aaaa6237033b38e0": {
          "model_module": "@jupyter-widgets/base",
          "model_name": "LayoutModel",
          "state": {
            "_view_name": "LayoutView",
            "grid_template_rows": null,
            "right": null,
            "justify_content": null,
            "_view_module": "@jupyter-widgets/base",
            "overflow": null,
            "_model_module_version": "1.2.0",
            "_view_count": null,
            "flex_flow": null,
            "width": null,
            "min_width": null,
            "border": null,
            "align_items": null,
            "bottom": null,
            "_model_module": "@jupyter-widgets/base",
            "top": null,
            "grid_column": null,
            "overflow_y": null,
            "overflow_x": null,
            "grid_auto_flow": null,
            "grid_area": null,
            "grid_template_columns": null,
            "flex": null,
            "_model_name": "LayoutModel",
            "justify_items": null,
            "grid_row": null,
            "max_height": null,
            "align_content": null,
            "visibility": null,
            "align_self": null,
            "height": null,
            "min_height": null,
            "padding": null,
            "grid_auto_rows": null,
            "grid_gap": null,
            "max_width": null,
            "order": null,
            "_view_module_version": "1.2.0",
            "grid_template_areas": null,
            "object_position": null,
            "object_fit": null,
            "grid_auto_columns": null,
            "margin": null,
            "display": null,
            "left": null
          }
        }
      }
    }
  },
  "cells": [
    {
      "cell_type": "markdown",
      "metadata": {
        "id": "view-in-github",
        "colab_type": "text"
      },
      "source": [
        "<a href=\"https://colab.research.google.com/github/bboerschinger/colabs/blob/master/JAX_MNIST.ipynb\" target=\"_parent\"><img src=\"https://colab.research.google.com/assets/colab-badge.svg\" alt=\"Open In Colab\"/></a>"
      ]
    },
    {
      "cell_type": "code",
      "metadata": {
        "id": "ZmU5C_y7TQH2",
        "colab_type": "code",
        "colab": {}
      },
      "source": [
        "import jax\n",
        "import tensorflow_datasets as tfds\n",
        "import matplotlib.pyplot as plt"
      ],
      "execution_count": 2,
      "outputs": []
    },
    {
      "cell_type": "code",
      "metadata": {
        "id": "YHyaSLMyzpne",
        "colab_type": "code",
        "colab": {
          "base_uri": "https://localhost:8080/",
          "height": 34
        },
        "outputId": "7722bb6b-a499-4374-ad12-54729d110f56"
      },
      "source": [
        "## Only if you have a TPU runtime.\n",
        "# Colab runtime set to TPU accel\n",
        "import requests\n",
        "import os\n",
        "if 'TPU_DRIVER_MODE' not in globals():\n",
        "  url = 'http://' + os.environ['COLAB_TPU_ADDR'].split(':')[0] + ':8475/requestversion/tpu_driver_nightly'\n",
        "  resp = requests.post(url)\n",
        "  TPU_DRIVER_MODE = 1\n",
        "\n",
        "# TPU driver as backend for JAX\n",
        "from jax.config import config\n",
        "config.FLAGS.jax_xla_backend = \"tpu_driver\"\n",
        "config.FLAGS.jax_backend_target = \"grpc://\" + os.environ['COLAB_TPU_ADDR']\n",
        "print(config.FLAGS.jax_backend_target)\n",
        "\n",
        "# Source: Cloud TPU NeurIPS 2019 Colab."
      ],
      "execution_count": 3,
      "outputs": [
        {
          "output_type": "stream",
          "text": [
            "grpc://10.114.100.194:8470\n"
          ],
          "name": "stdout"
        }
      ]
    },
    {
      "cell_type": "code",
      "metadata": {
        "id": "pkYcBZhzattq",
        "colab_type": "code",
        "colab": {}
      },
      "source": [
        "# Helpers to keep tracks of names and parameters.\n",
        "def create_name_scope():\n",
        "  names = set()\n",
        "\n",
        "  def make_name_fn(local_name):\n",
        "    tmp_name = local_name\n",
        "    i = 0\n",
        "    while tmp_name in names:\n",
        "      i += 1\n",
        "      tmp_name = f'{local_name}:{i}'\n",
        "    \n",
        "    names.add(tmp_name)\n",
        "    return tmp_name       \n",
        "\n",
        "  return make_name_fn\n",
        "\n",
        "def create_model():\n",
        "  scope = create_name_scope()\n",
        "  params = {}\n",
        "\n",
        "  def add_layer_fn(layer_call_fn_layer_params):\n",
        "    layer_call_fn, layer_params = layer_call_fn_layer_params\n",
        "    params.update(layer_params)\n",
        "    return layer_call_fn\n",
        "\n",
        "  return params, scope, add_layer_fn"
      ],
      "execution_count": 4,
      "outputs": []
    },
    {
      "cell_type": "code",
      "metadata": {
        "id": "ESoP-kpcWY4K",
        "colab_type": "code",
        "colab": {}
      },
      "source": [
        "# Helper for random numbers.\n",
        "def make_random_generator(seed):\n",
        "  rng = jax.random.PRNGKey(seed=seed)\n",
        "\n",
        "  def call_fn(num=1):\n",
        "    nonlocal rng\n",
        "    new_rngs = jax.random.split(key=rng, num=num+1)\n",
        "    rng = new_rngs[0]\n",
        "    if len(new_rngs[1:]) == 1:\n",
        "      return new_rngs[1]\n",
        "    else:\n",
        "      return new_rngs[1:]\n",
        "\n",
        "  return call_fn\n",
        "\n",
        "rng_fn = make_random_generator(seed=0)"
      ],
      "execution_count": 5,
      "outputs": []
    },
    {
      "cell_type": "code",
      "metadata": {
        "id": "fTisWuGTW5ZH",
        "colab_type": "code",
        "colab": {}
      },
      "source": [
        "# Helpers when defining layers.\n",
        "def make_local_getter(params, local_to_global):\n",
        "  def get_fn(local_name):\n",
        "    return params[local_to_global[local_name]]\n",
        "  \n",
        "  return get_fn\n",
        "\n",
        "\n",
        "def make_local_setter(params, local_to_global, scope):\n",
        "  def set_fn(local_name, value):\n",
        "    local_to_global[local_name] = scope(local_name)\n",
        "    params[local_to_global[local_name]] = value\n",
        "  \n",
        "  return set_fn"
      ],
      "execution_count": 6,
      "outputs": []
    },
    {
      "cell_type": "code",
      "metadata": {
        "id": "FhE5lP1zzBz8",
        "colab_type": "code",
        "colab": {}
      },
      "source": [
        "def sgd_update(params, gradients, learning_rate):\n",
        "  return {\n",
        "      k: v - learning_rate * gradients[k] for (k, v) in params.items()\n",
        "  }"
      ],
      "execution_count": 7,
      "outputs": []
    },
    {
      "cell_type": "code",
      "metadata": {
        "id": "QBy0I_NeTWVN",
        "colab_type": "code",
        "colab": {}
      },
      "source": [
        "# Example layer - simple feed forward network.\n",
        "def make_ffn(num_in, num_out, rng_fn, activation_fn, scope):\n",
        "  _local_to_global = {}\n",
        "  _params = {}\n",
        "\n",
        "  add_weight = make_local_setter(params=_params, \n",
        "                                 local_to_global=_local_to_global,\n",
        "                                 scope=scope)\n",
        "  \n",
        "  add_weight('W', jax.random.normal(key=rng_fn(), shape=(num_in, num_out)))\n",
        "  add_weight('b', jax.random.normal(key=rng_fn(), shape=(num_out,)))\n",
        "\n",
        "  def call_fn(inputs, params, rng, training):\n",
        "    \"\"\"\n",
        "      inputs:  [batch_size, num_in]\n",
        "    \"\"\"\n",
        "    get_weight = make_local_getter(params=params,\n",
        "                                   local_to_global=_local_to_global)\n",
        "    \n",
        "    # [batch_size, num_out]\n",
        "    activations = inputs @ get_weight('W') + get_weight('b')\n",
        "\n",
        "    if activation_fn is not None:\n",
        "      activations = activation_fn(activations)  \n",
        "\n",
        "    return activations\n",
        "\n",
        "  return (call_fn, _params)\n",
        "\n",
        "def make_residual_layer(wrapped_layer):\n",
        "  def call_fn(inputs, params, rng, training):\n",
        "    return inputs + wrapped_layer(inputs, params, rng, training)\n",
        "\n",
        "  return call_fn"
      ],
      "execution_count": 14,
      "outputs": []
    },
    {
      "cell_type": "code",
      "metadata": {
        "id": "We27kW6LpoEf",
        "colab_type": "code",
        "colab": {
          "base_uri": "https://localhost:8080/",
          "height": 470,
          "referenced_widgets": [
            "7c4f739e84dd4907a8dcad8e146c0b2f",
            "d4f642a794f94a86bdbd14be8d9271c6",
            "1109971376cd44cea9ff51d766506651",
            "e3117a128a5e431dad3ee2ad1c434445",
            "af20035716a74a1597fcef8b953a8ad3",
            "3950e78ff9094f0caa66097c0566dbd0",
            "a9f271ecf62f48aa94845cc0f2068910",
            "ecaca0a7c3c94e99aaaa6237033b38e0"
          ]
        },
        "outputId": "6a650d9f-235e-422c-ebe1-5405cb8c106d"
      },
      "source": [
        "# Load mnist_data.\n",
        "mnist_data = tfds.load('mnist')\n",
        "train_data, test_data = mnist_data['train'], mnist_data['test']\n",
        "\n",
        "image_spec = train_data.element_spec['image']\n",
        "input_dimensionality = image_spec.shape[0] * image_spec.shape[1]\n",
        "\n",
        "number_of_classes = 10\n",
        "\n",
        "plt.imshow(next(iter(train_data))['image'].numpy().squeeze())\n",
        "\n",
        "# Flatten the images and turn things into numpy arrays.\n",
        "def mnist_adapter(mnist_data, batch_size):\n",
        "  def data_fn():\n",
        "    for batch in mnist_data.batch(batch_size):\n",
        "      image, label = batch['image'].numpy(), batch['label'].numpy()\n",
        "      image = jax.numpy.reshape(image, newshape=(-1, input_dimensionality))\n",
        "      yield (image, label)\n",
        "  \n",
        "  return data_fn\n",
        "\n",
        "train_data_fn = mnist_adapter(mnist_data=train_data, batch_size=512)\n",
        "dev_data_fn = mnist_adapter(mnist_data=test_data, batch_size=1024)  "
      ],
      "execution_count": 9,
      "outputs": [
        {
          "output_type": "stream",
          "text": [
            "WARNING:absl:Dataset mnist is hosted on GCS. It will automatically be downloaded to your\n",
            "local data directory. If you'd instead prefer to read directly from our public\n",
            "GCS bucket (recommended if you're running on GCP), you can instead set\n",
            "data_dir=gs://tfds-data/datasets.\n",
            "\n"
          ],
          "name": "stderr"
        },
        {
          "output_type": "stream",
          "text": [
            "\u001b[1mDownloading and preparing dataset mnist/3.0.0 (download: 11.06 MiB, generated: Unknown size, total: 11.06 MiB) to /root/tensorflow_datasets/mnist/3.0.0...\u001b[0m\n"
          ],
          "name": "stdout"
        },
        {
          "output_type": "display_data",
          "data": {
            "application/vnd.jupyter.widget-view+json": {
              "model_id": "7c4f739e84dd4907a8dcad8e146c0b2f",
              "version_minor": 0,
              "version_major": 2
            },
            "text/plain": [
              "HBox(children=(FloatProgress(value=0.0, description='Dl Completed...', max=4.0, style=ProgressStyle(descriptio…"
            ]
          },
          "metadata": {
            "tags": []
          }
        },
        {
          "output_type": "stream",
          "text": [
            "\n",
            "\n",
            "\u001b[1mDataset mnist downloaded and prepared to /root/tensorflow_datasets/mnist/3.0.0. Subsequent calls will reuse this data.\u001b[0m\n"
          ],
          "name": "stdout"
        },
        {
          "output_type": "display_data",
          "data": {
            "image/png": "[encoded data removed]",
            "text/plain": [
              "<Figure size 432x288 with 1 Axes>"
            ]
          },
          "metadata": {
            "tags": [],
            "needs_background": "light"
          }
        }
      ]
    },
    {
      "cell_type": "code",
      "metadata": {
        "id": "khgoKrciZ8D3",
        "colab_type": "code",
        "colab": {}
      },
      "source": [
        "# Create a model.\n",
        "\n",
        "model_params, model_scope, add_layer_fn = create_model()\n",
        "rng_fn = make_random_generator(seed=0)\n",
        "\n",
        "def make_sequential_model(layers):\n",
        "  def model_fn(inputs, params, rng, training):\n",
        "    for layer_fn in layers:\n",
        "      inputs = layer_fn(inputs=inputs,\n",
        "                        params=params,\n",
        "                        rng=rng,\n",
        "                        training=training)\n",
        "    return inputs\n",
        "  \n",
        "  return model_fn\n",
        "\n",
        "model_fn = jax.jit(make_sequential_model([\n",
        "  add_layer_fn(make_ffn(num_in=input_dimensionality, \n",
        "                        num_out=128, \n",
        "                        rng_fn=rng_fn, \n",
        "                        activation_fn=jax.nn.sigmoid, \n",
        "                        scope=model_scope)),\n",
        "  add_layer_fn(make_ffn(num_in=128, \n",
        "                        num_out=64, \n",
        "                        rng_fn=rng_fn, \n",
        "                        activation_fn=jax.nn.sigmoid, \n",
        "                        scope=model_scope)),\n",
        "  add_layer_fn(make_ffn(num_in=64, \n",
        "                        num_out=32, \n",
        "                        rng_fn=rng_fn, \n",
        "                        activation_fn=jax.nn.sigmoid, \n",
        "                        scope=model_scope)),\n",
        "  add_layer_fn(make_ffn(num_in=32,\n",
        "                        num_out=10,\n",
        "                        rng_fn=rng_fn, \n",
        "                        activation_fn=None, \n",
        "                        scope=model_scope)),\n",
        "]))\n",
        "\n",
        "# Define a loss function.\n",
        "def make_cross_entropy_loss(model_fn): \n",
        "  def loss_fn(params, inputs, labels):\n",
        "    # [batch_size, number_of_classes]\n",
        "    logits = model_fn(params=params, inputs=inputs, rng=None, training=None)\n",
        "    \n",
        "    # [batch_size, number_of_classes]\n",
        "    one_hot_labels = jax.nn.one_hot(x=labels,\n",
        "                                    num_classes=number_of_classes)\n",
        "    \n",
        "    # [batch_size, number_of_classes]  \n",
        "    log_probs = jax.nn.log_softmax(logits)\n",
        "\n",
        "    log_loss = -log_probs * one_hot_labels\n",
        "\n",
        "    return jax.numpy.mean(log_loss)\n",
        "\n",
        "  return jax.jit(loss_fn)\n",
        "\n",
        "# Define an eval function.\n",
        "def make_accuracy_eval_fn(model_fn):\n",
        "  def eval_fn(params, data_fn):\n",
        "    num_examples = 0\n",
        "    num_correct = 0\n",
        "    for image, label in data_fn():\n",
        "      num_examples += image.shape[0]\n",
        "      logits = model_fn(params=params, inputs=image, rng=None, training=None)\n",
        "      prediction = jax.numpy.argmax(logits, axis=-1)\n",
        "      correct = prediction == label\n",
        "      num_correct += jax.numpy.sum(correct)\n",
        "    return num_correct / num_examples\n",
        "\n",
        "  return eval_fn  \n",
        "\n",
        "grad_loss_fn = jax.value_and_grad(fun=make_cross_entropy_loss(model_fn))\n",
        "accuracy_eval_fn = make_accuracy_eval_fn(model_fn)\n"
      ],
      "execution_count": 17,
      "outputs": []
    },
    {
      "cell_type": "code",
      "metadata": {
        "id": "arrAUPoxu4xK",
        "colab_type": "code",
        "colab": {
          "base_uri": "https://localhost:8080/",
          "height": 1000
        },
        "outputId": "b2f4ceaa-36f8-455b-8c2a-b9116a49b748"
      },
      "source": [
        "learning_rate = 1.0\n",
        "\n",
        "for epoch in range(100):\n",
        "  epoch_loss = 0.0\n",
        "  batches = 0\n",
        "  for (image, label) in train_data_fn():\n",
        "    loss, grad = grad_loss_fn(model_params, inputs=image, labels=label)\n",
        "    epoch_loss += loss\n",
        "    batches += 1\n",
        "    model_params = sgd_update(params=model_params,\n",
        "                              gradients=grad,\n",
        "                              learning_rate=learning_rate)\n",
        "  train_acc = accuracy_eval_fn(params=model_params, data_fn=train_data_fn)\n",
        "  dev_acc = accuracy_eval_fn(params=model_params, data_fn=dev_data_fn)\n",
        "\n",
        "  print(f'Epoch: {epoch+1}, loss={epoch_loss/batches}, '\n",
        "        f'train_accuracy={train_acc}, dev_accuracy={dev_acc}')\n"
      ],
      "execution_count": 18,
      "outputs": [
        {
          "output_type": "stream",
          "text": [
            "Epoch: 1, loss=0.27514180541038513, train_accuracy=0.2637333273887634, dev_accuracy=0.2678999900817871\n",
            "Epoch: 2, loss=0.1955207735300064, train_accuracy=0.3716000020503998, dev_accuracy=0.3752000033855438\n",
            "Epoch: 3, loss=0.17144577205181122, train_accuracy=0.4556833505630493, dev_accuracy=0.45889997482299805\n",
            "Epoch: 4, loss=0.15276162326335907, train_accuracy=0.5204833149909973, dev_accuracy=0.5254999995231628\n",
            "Epoch: 5, loss=0.13794825971126556, train_accuracy=0.5624666810035706, dev_accuracy=0.5740000009536743\n",
            "Epoch: 6, loss=0.12646447122097015, train_accuracy=0.5969333648681641, dev_accuracy=0.6049999594688416\n",
            "Epoch: 7, loss=0.1164180114865303, train_accuracy=0.6258833408355713, dev_accuracy=0.6301000118255615\n",
            "Epoch: 8, loss=0.10877803713083267, train_accuracy=0.6506666541099548, dev_accuracy=0.6563000082969666\n",
            "Epoch: 9, loss=0.1024353951215744, train_accuracy=0.6715999841690063, dev_accuracy=0.6733999848365784\n",
            "Epoch: 10, loss=0.09736721962690353, train_accuracy=0.6860333681106567, dev_accuracy=0.6882999539375305\n",
            "Epoch: 11, loss=0.09292282164096832, train_accuracy=0.7029500007629395, dev_accuracy=0.7053999900817871\n",
            "Epoch: 12, loss=0.0896906852722168, train_accuracy=0.7078999876976013, dev_accuracy=0.7069999575614929\n",
            "Epoch: 13, loss=0.08700306713581085, train_accuracy=0.7187166810035706, dev_accuracy=0.7186999917030334\n",
            "Epoch: 14, loss=0.08385323733091354, train_accuracy=0.7277166843414307, dev_accuracy=0.7285999655723572\n",
            "Epoch: 15, loss=0.08143448084592819, train_accuracy=0.7369499802589417, dev_accuracy=0.7339000105857849\n",
            "Epoch: 16, loss=0.07901594787836075, train_accuracy=0.7432500123977661, dev_accuracy=0.739799976348877\n",
            "Epoch: 17, loss=0.07694501429796219, train_accuracy=0.7489333152770996, dev_accuracy=0.7470999956130981\n",
            "Epoch: 18, loss=0.07543111592531204, train_accuracy=0.7571666836738586, dev_accuracy=0.7536999583244324\n",
            "Epoch: 19, loss=0.07325459271669388, train_accuracy=0.7619166970252991, dev_accuracy=0.7608999609947205\n",
            "Epoch: 20, loss=0.07153882831335068, train_accuracy=0.7699000239372253, dev_accuracy=0.7664999961853027\n",
            "Epoch: 21, loss=0.06995924562215805, train_accuracy=0.7744500041007996, dev_accuracy=0.7741999626159668\n",
            "Epoch: 22, loss=0.06837530434131622, train_accuracy=0.7795000076293945, dev_accuracy=0.7807999849319458\n",
            "Epoch: 23, loss=0.06708499044179916, train_accuracy=0.7852333188056946, dev_accuracy=0.7831000089645386\n",
            "Epoch: 24, loss=0.06571394205093384, train_accuracy=0.7867666482925415, dev_accuracy=0.7888000011444092\n",
            "Epoch: 25, loss=0.06481734663248062, train_accuracy=0.7929500341415405, dev_accuracy=0.7888999581336975\n",
            "Epoch: 26, loss=0.06317409127950668, train_accuracy=0.7967166900634766, dev_accuracy=0.7928000092506409\n",
            "Epoch: 27, loss=0.06204140931367874, train_accuracy=0.8023499846458435, dev_accuracy=0.79749995470047\n",
            "Epoch: 28, loss=0.06103912368416786, train_accuracy=0.8070499897003174, dev_accuracy=0.8027999997138977\n",
            "Epoch: 29, loss=0.060205310583114624, train_accuracy=0.8072500228881836, dev_accuracy=0.8017999529838562\n",
            "Epoch: 30, loss=0.05953923612833023, train_accuracy=0.8088333606719971, dev_accuracy=0.8073999881744385\n",
            "Epoch: 31, loss=0.05892205610871315, train_accuracy=0.812583327293396, dev_accuracy=0.8107999563217163\n",
            "Epoch: 32, loss=0.0579758919775486, train_accuracy=0.8166833519935608, dev_accuracy=0.816100001335144\n",
            "Epoch: 33, loss=0.05709557607769966, train_accuracy=0.820733368396759, dev_accuracy=0.8198999762535095\n",
            "Epoch: 34, loss=0.05642421543598175, train_accuracy=0.823116660118103, dev_accuracy=0.8166999816894531\n",
            "Epoch: 35, loss=0.05540012568235397, train_accuracy=0.8242166638374329, dev_accuracy=0.8216999769210815\n",
            "Epoch: 36, loss=0.05498455837368965, train_accuracy=0.8273666501045227, dev_accuracy=0.8259999752044678\n",
            "Epoch: 37, loss=0.05427737161517143, train_accuracy=0.828249990940094, dev_accuracy=0.8282999992370605\n",
            "Epoch: 38, loss=0.05354475975036621, train_accuracy=0.8314000368118286, dev_accuracy=0.8280999660491943\n",
            "Epoch: 39, loss=0.05327411741018295, train_accuracy=0.8330667018890381, dev_accuracy=0.8278999924659729\n",
            "Epoch: 40, loss=0.052575428038835526, train_accuracy=0.8352333307266235, dev_accuracy=0.8277999758720398\n",
            "Epoch: 41, loss=0.052007660269737244, train_accuracy=0.8380333185195923, dev_accuracy=0.8331999778747559\n",
            "Epoch: 42, loss=0.05119716748595238, train_accuracy=0.8395500183105469, dev_accuracy=0.833299994468689\n",
            "Epoch: 43, loss=0.05088596045970917, train_accuracy=0.8402166962623596, dev_accuracy=0.8342999815940857\n",
            "Epoch: 44, loss=0.0499737374484539, train_accuracy=0.8436499834060669, dev_accuracy=0.8400999903678894\n",
            "Epoch: 45, loss=0.04933257773518562, train_accuracy=0.8452500104904175, dev_accuracy=0.8413999676704407\n",
            "Epoch: 46, loss=0.048894003033638, train_accuracy=0.8477166891098022, dev_accuracy=0.8395999670028687\n",
            "Epoch: 47, loss=0.0486268550157547, train_accuracy=0.8474000096321106, dev_accuracy=0.8409000039100647\n",
            "Epoch: 48, loss=0.04807206615805626, train_accuracy=0.8489500284194946, dev_accuracy=0.8410999774932861\n",
            "Epoch: 49, loss=0.04772902652621269, train_accuracy=0.8517667055130005, dev_accuracy=0.8422999978065491\n",
            "Epoch: 50, loss=0.0472324900329113, train_accuracy=0.8520833253860474, dev_accuracy=0.8458999991416931\n",
            "Epoch: 51, loss=0.04680967330932617, train_accuracy=0.8544666767120361, dev_accuracy=0.8460999727249146\n",
            "Epoch: 52, loss=0.046425219625234604, train_accuracy=0.85548335313797, dev_accuracy=0.8490999937057495\n",
            "Epoch: 53, loss=0.0461936891078949, train_accuracy=0.8555833697319031, dev_accuracy=0.8485999703407288\n",
            "Epoch: 54, loss=0.045965127646923065, train_accuracy=0.857033371925354, dev_accuracy=0.8533999919891357\n",
            "Epoch: 55, loss=0.04530319198966026, train_accuracy=0.8581500053405762, dev_accuracy=0.8545999526977539\n",
            "Epoch: 56, loss=0.04493900388479233, train_accuracy=0.8594833612442017, dev_accuracy=0.8567999601364136\n",
            "Epoch: 57, loss=0.04485951364040375, train_accuracy=0.8600500226020813, dev_accuracy=0.8517000079154968\n",
            "Epoch: 58, loss=0.04465560242533684, train_accuracy=0.8604833483695984, dev_accuracy=0.8525999784469604\n",
            "Epoch: 59, loss=0.044385604560375214, train_accuracy=0.8603833317756653, dev_accuracy=0.8531000018119812\n",
            "Epoch: 60, loss=0.044186487793922424, train_accuracy=0.863099992275238, dev_accuracy=0.8569999933242798\n",
            "Epoch: 61, loss=0.043764788657426834, train_accuracy=0.8644833564758301, dev_accuracy=0.8575999736785889\n",
            "Epoch: 62, loss=0.04332154616713524, train_accuracy=0.8658666610717773, dev_accuracy=0.8603999614715576\n",
            "Epoch: 63, loss=0.04268590733408928, train_accuracy=0.8674666881561279, dev_accuracy=0.8574000000953674\n",
            "Epoch: 64, loss=0.04256463423371315, train_accuracy=0.8692499995231628, dev_accuracy=0.8605999946594238\n",
            "Epoch: 65, loss=0.04182847961783409, train_accuracy=0.8710333704948425, dev_accuracy=0.8578000068664551\n",
            "Epoch: 66, loss=0.0416705459356308, train_accuracy=0.8707333207130432, dev_accuracy=0.856499969959259\n",
            "Epoch: 67, loss=0.04165549948811531, train_accuracy=0.8715333342552185, dev_accuracy=0.8611999750137329\n",
            "Epoch: 68, loss=0.04162715747952461, train_accuracy=0.8715167045593262, dev_accuracy=0.8624999523162842\n",
            "Epoch: 69, loss=0.04145500808954239, train_accuracy=0.871833324432373, dev_accuracy=0.8629999756813049\n",
            "Epoch: 70, loss=0.041129447519779205, train_accuracy=0.8732500076293945, dev_accuracy=0.8651999831199646\n",
            "Epoch: 71, loss=0.04071427509188652, train_accuracy=0.8737166523933411, dev_accuracy=0.8667999505996704\n",
            "Epoch: 72, loss=0.04065452516078949, train_accuracy=0.8747000098228455, dev_accuracy=0.8664999604225159\n",
            "Epoch: 73, loss=0.040526244789361954, train_accuracy=0.8736667037010193, dev_accuracy=0.8685999512672424\n",
            "Epoch: 74, loss=0.040209103375673294, train_accuracy=0.8758833408355713, dev_accuracy=0.8678999543190002\n",
            "Epoch: 75, loss=0.03983241692185402, train_accuracy=0.8756499886512756, dev_accuracy=0.8696999549865723\n",
            "Epoch: 76, loss=0.03996220976114273, train_accuracy=0.8772166967391968, dev_accuracy=0.8700999617576599\n",
            "Epoch: 77, loss=0.039676468819379807, train_accuracy=0.8773166537284851, dev_accuracy=0.8697999715805054\n",
            "Epoch: 78, loss=0.03940248489379883, train_accuracy=0.877916693687439, dev_accuracy=0.8703999519348145\n",
            "Epoch: 79, loss=0.039265599101781845, train_accuracy=0.878433346748352, dev_accuracy=0.8686999678611755\n",
            "Epoch: 80, loss=0.03875338286161423, train_accuracy=0.879800021648407, dev_accuracy=0.8711999654769897\n",
            "Epoch: 81, loss=0.03852486610412598, train_accuracy=0.8810833692550659, dev_accuracy=0.8707999587059021\n",
            "Epoch: 82, loss=0.03831050917506218, train_accuracy=0.8821499943733215, dev_accuracy=0.8743000030517578\n",
            "Epoch: 83, loss=0.038061413913965225, train_accuracy=0.8820833563804626, dev_accuracy=0.875499963760376\n",
            "Epoch: 84, loss=0.03793782368302345, train_accuracy=0.8820000290870667, dev_accuracy=0.8743000030517578\n",
            "Epoch: 85, loss=0.03792136535048485, train_accuracy=0.8826500177383423, dev_accuracy=0.8740999698638916\n",
            "Epoch: 86, loss=0.03755579888820648, train_accuracy=0.8837167024612427, dev_accuracy=0.8736000061035156\n",
            "Epoch: 87, loss=0.03719724714756012, train_accuracy=0.8856000304222107, dev_accuracy=0.8733999729156494\n",
            "Epoch: 88, loss=0.03714606910943985, train_accuracy=0.8849166631698608, dev_accuracy=0.8738999962806702\n",
            "Epoch: 89, loss=0.03697565943002701, train_accuracy=0.8853499889373779, dev_accuracy=0.8773999810218811\n",
            "Epoch: 90, loss=0.036794427782297134, train_accuracy=0.8862500190734863, dev_accuracy=0.8755999803543091\n",
            "Epoch: 91, loss=0.0365338996052742, train_accuracy=0.8851500153541565, dev_accuracy=0.8786999583244324\n",
            "Epoch: 92, loss=0.036422569304704666, train_accuracy=0.887066662311554, dev_accuracy=0.8776999711990356\n",
            "Epoch: 93, loss=0.036269668489694595, train_accuracy=0.8875666856765747, dev_accuracy=0.8792999982833862\n",
            "Epoch: 94, loss=0.03605356067419052, train_accuracy=0.8895000219345093, dev_accuracy=0.8781999945640564\n",
            "Epoch: 95, loss=0.03573721647262573, train_accuracy=0.8893166780471802, dev_accuracy=0.8773999810218811\n",
            "Epoch: 96, loss=0.035512883216142654, train_accuracy=0.8896000385284424, dev_accuracy=0.8822999596595764\n",
            "Epoch: 97, loss=0.03529265150427818, train_accuracy=0.8905166983604431, dev_accuracy=0.8805999755859375\n",
            "Epoch: 98, loss=0.03522055596113205, train_accuracy=0.8910333514213562, dev_accuracy=0.8805999755859375\n",
            "Epoch: 99, loss=0.03482763096690178, train_accuracy=0.8923500180244446, dev_accuracy=0.8799999952316284\n",
            "Epoch: 100, loss=0.034649867564439774, train_accuracy=0.8915500044822693, dev_accuracy=0.8828999996185303\n"
          ],
          "name": "stdout"
        }
      ]
    }
  ]
}
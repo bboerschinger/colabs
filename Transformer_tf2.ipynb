{
  "nbformat": 4,
  "nbformat_minor": 0,
  "metadata": {
    "colab": {
      "name": "Clean Transformer LM",
      "provenance": [],
      "authorship_tag": "ABX9TyM8aNHgQD+niLl5olk9PciU",
      "include_colab_link": true
    },
    "kernelspec": {
      "name": "python3",
      "display_name": "Python 3"
    },
    "accelerator": "TPU"
  },
  "cells": [
    {
      "cell_type": "markdown",
      "metadata": {
        "id": "view-in-github",
        "colab_type": "text"
      },
      "source": [
        "<a href=\"https://colab.research.google.com/github/bboerschinger/colabs/blob/master/Transformer_tf2.ipynb\" target=\"_parent\"><img src=\"https://colab.research.google.com/assets/colab-badge.svg\" alt=\"Open In Colab\"/></a>"
      ]
    },
    {
      "cell_type": "markdown",
      "metadata": {
        "id": "zU1OSts3sroB",
        "colab_type": "text"
      },
      "source": [
        "These are interactive annotations for \"Attention is all you need\", https://papers.nips.cc/paper/7181-attention-is-all-you-need.pdf.\n",
        "\n",
        "Focus on simplicity and readability, and using \"plain\" tensorflow."
      ]
    },
    {
      "cell_type": "code",
      "metadata": {
        "id": "-5NUwwtSAu1R",
        "colab_type": "code",
        "colab": {}
      },
      "source": [
        "import tensorflow as tf\n",
        "import math\n",
        "import matplotlib.pyplot as plt"
      ],
      "execution_count": null,
      "outputs": []
    },
    {
      "cell_type": "code",
      "metadata": {
        "id": "6PHjqyJJkk3s",
        "colab_type": "code",
        "colab": {
          "base_uri": "https://localhost:8080/",
          "height": 697
        },
        "outputId": "8c41c37d-b0cd-4d2b-a421-ebc09fd988af"
      },
      "source": [
        "try:\n",
        "  tpu = tf.distribute.cluster_resolver.TPUClusterResolver()  # TPU detection\n",
        "  tf.config.experimental_connect_to_cluster(tpu)\n",
        "  tf.tpu.experimental.initialize_tpu_system(tpu)\n",
        "  strategy = tf.distribute.TPUStrategy(tpu)\n",
        "except:\n",
        "  strategy = tf.distribute.get_strategy()"
      ],
      "execution_count": null,
      "outputs": [
        {
          "output_type": "stream",
          "text": [
            "INFO:tensorflow:Initializing the TPU system: grpc://10.30.147.58:8470\n"
          ],
          "name": "stdout"
        },
        {
          "output_type": "stream",
          "text": [
            "INFO:tensorflow:Initializing the TPU system: grpc://10.30.147.58:8470\n"
          ],
          "name": "stderr"
        },
        {
          "output_type": "stream",
          "text": [
            "INFO:tensorflow:Clearing out eager caches\n"
          ],
          "name": "stdout"
        },
        {
          "output_type": "stream",
          "text": [
            "INFO:tensorflow:Clearing out eager caches\n"
          ],
          "name": "stderr"
        },
        {
          "output_type": "stream",
          "text": [
            "INFO:tensorflow:Finished initializing TPU system.\n"
          ],
          "name": "stdout"
        },
        {
          "output_type": "stream",
          "text": [
            "INFO:tensorflow:Finished initializing TPU system.\n"
          ],
          "name": "stderr"
        },
        {
          "output_type": "stream",
          "text": [
            "INFO:tensorflow:Found TPU system:\n"
          ],
          "name": "stdout"
        },
        {
          "output_type": "stream",
          "text": [
            "INFO:tensorflow:Found TPU system:\n"
          ],
          "name": "stderr"
        },
        {
          "output_type": "stream",
          "text": [
            "INFO:tensorflow:*** Num TPU Cores: 8\n"
          ],
          "name": "stdout"
        },
        {
          "output_type": "stream",
          "text": [
            "INFO:tensorflow:*** Num TPU Cores: 8\n"
          ],
          "name": "stderr"
        },
        {
          "output_type": "stream",
          "text": [
            "INFO:tensorflow:*** Num TPU Workers: 1\n"
          ],
          "name": "stdout"
        },
        {
          "output_type": "stream",
          "text": [
            "INFO:tensorflow:*** Num TPU Workers: 1\n"
          ],
          "name": "stderr"
        },
        {
          "output_type": "stream",
          "text": [
            "INFO:tensorflow:*** Num TPU Cores Per Worker: 8\n"
          ],
          "name": "stdout"
        },
        {
          "output_type": "stream",
          "text": [
            "INFO:tensorflow:*** Num TPU Cores Per Worker: 8\n"
          ],
          "name": "stderr"
        },
        {
          "output_type": "stream",
          "text": [
            "INFO:tensorflow:*** Available Device: _DeviceAttributes(/job:localhost/replica:0/task:0/device:CPU:0, CPU, 0, 0)\n"
          ],
          "name": "stdout"
        },
        {
          "output_type": "stream",
          "text": [
            "INFO:tensorflow:*** Available Device: _DeviceAttributes(/job:localhost/replica:0/task:0/device:CPU:0, CPU, 0, 0)\n"
          ],
          "name": "stderr"
        },
        {
          "output_type": "stream",
          "text": [
            "INFO:tensorflow:*** Available Device: _DeviceAttributes(/job:localhost/replica:0/task:0/device:XLA_CPU:0, XLA_CPU, 0, 0)\n"
          ],
          "name": "stdout"
        },
        {
          "output_type": "stream",
          "text": [
            "INFO:tensorflow:*** Available Device: _DeviceAttributes(/job:localhost/replica:0/task:0/device:XLA_CPU:0, XLA_CPU, 0, 0)\n"
          ],
          "name": "stderr"
        },
        {
          "output_type": "stream",
          "text": [
            "INFO:tensorflow:*** Available Device: _DeviceAttributes(/job:worker/replica:0/task:0/device:CPU:0, CPU, 0, 0)\n"
          ],
          "name": "stdout"
        },
        {
          "output_type": "stream",
          "text": [
            "INFO:tensorflow:*** Available Device: _DeviceAttributes(/job:worker/replica:0/task:0/device:CPU:0, CPU, 0, 0)\n"
          ],
          "name": "stderr"
        },
        {
          "output_type": "stream",
          "text": [
            "INFO:tensorflow:*** Available Device: _DeviceAttributes(/job:worker/replica:0/task:0/device:TPU:0, TPU, 0, 0)\n"
          ],
          "name": "stdout"
        },
        {
          "output_type": "stream",
          "text": [
            "INFO:tensorflow:*** Available Device: _DeviceAttributes(/job:worker/replica:0/task:0/device:TPU:0, TPU, 0, 0)\n"
          ],
          "name": "stderr"
        },
        {
          "output_type": "stream",
          "text": [
            "INFO:tensorflow:*** Available Device: _DeviceAttributes(/job:worker/replica:0/task:0/device:TPU:1, TPU, 0, 0)\n"
          ],
          "name": "stdout"
        },
        {
          "output_type": "stream",
          "text": [
            "INFO:tensorflow:*** Available Device: _DeviceAttributes(/job:worker/replica:0/task:0/device:TPU:1, TPU, 0, 0)\n"
          ],
          "name": "stderr"
        },
        {
          "output_type": "stream",
          "text": [
            "INFO:tensorflow:*** Available Device: _DeviceAttributes(/job:worker/replica:0/task:0/device:TPU:2, TPU, 0, 0)\n"
          ],
          "name": "stdout"
        },
        {
          "output_type": "stream",
          "text": [
            "INFO:tensorflow:*** Available Device: _DeviceAttributes(/job:worker/replica:0/task:0/device:TPU:2, TPU, 0, 0)\n"
          ],
          "name": "stderr"
        },
        {
          "output_type": "stream",
          "text": [
            "INFO:tensorflow:*** Available Device: _DeviceAttributes(/job:worker/replica:0/task:0/device:TPU:3, TPU, 0, 0)\n"
          ],
          "name": "stdout"
        },
        {
          "output_type": "stream",
          "text": [
            "INFO:tensorflow:*** Available Device: _DeviceAttributes(/job:worker/replica:0/task:0/device:TPU:3, TPU, 0, 0)\n"
          ],
          "name": "stderr"
        },
        {
          "output_type": "stream",
          "text": [
            "INFO:tensorflow:*** Available Device: _DeviceAttributes(/job:worker/replica:0/task:0/device:TPU:4, TPU, 0, 0)\n"
          ],
          "name": "stdout"
        },
        {
          "output_type": "stream",
          "text": [
            "INFO:tensorflow:*** Available Device: _DeviceAttributes(/job:worker/replica:0/task:0/device:TPU:4, TPU, 0, 0)\n"
          ],
          "name": "stderr"
        },
        {
          "output_type": "stream",
          "text": [
            "INFO:tensorflow:*** Available Device: _DeviceAttributes(/job:worker/replica:0/task:0/device:TPU:5, TPU, 0, 0)\n"
          ],
          "name": "stdout"
        },
        {
          "output_type": "stream",
          "text": [
            "INFO:tensorflow:*** Available Device: _DeviceAttributes(/job:worker/replica:0/task:0/device:TPU:5, TPU, 0, 0)\n"
          ],
          "name": "stderr"
        },
        {
          "output_type": "stream",
          "text": [
            "INFO:tensorflow:*** Available Device: _DeviceAttributes(/job:worker/replica:0/task:0/device:TPU:6, TPU, 0, 0)\n"
          ],
          "name": "stdout"
        },
        {
          "output_type": "stream",
          "text": [
            "INFO:tensorflow:*** Available Device: _DeviceAttributes(/job:worker/replica:0/task:0/device:TPU:6, TPU, 0, 0)\n"
          ],
          "name": "stderr"
        },
        {
          "output_type": "stream",
          "text": [
            "INFO:tensorflow:*** Available Device: _DeviceAttributes(/job:worker/replica:0/task:0/device:TPU:7, TPU, 0, 0)\n"
          ],
          "name": "stdout"
        },
        {
          "output_type": "stream",
          "text": [
            "INFO:tensorflow:*** Available Device: _DeviceAttributes(/job:worker/replica:0/task:0/device:TPU:7, TPU, 0, 0)\n"
          ],
          "name": "stderr"
        },
        {
          "output_type": "stream",
          "text": [
            "INFO:tensorflow:*** Available Device: _DeviceAttributes(/job:worker/replica:0/task:0/device:TPU_SYSTEM:0, TPU_SYSTEM, 0, 0)\n"
          ],
          "name": "stdout"
        },
        {
          "output_type": "stream",
          "text": [
            "INFO:tensorflow:*** Available Device: _DeviceAttributes(/job:worker/replica:0/task:0/device:TPU_SYSTEM:0, TPU_SYSTEM, 0, 0)\n"
          ],
          "name": "stderr"
        },
        {
          "output_type": "stream",
          "text": [
            "INFO:tensorflow:*** Available Device: _DeviceAttributes(/job:worker/replica:0/task:0/device:XLA_CPU:0, XLA_CPU, 0, 0)\n"
          ],
          "name": "stdout"
        },
        {
          "output_type": "stream",
          "text": [
            "INFO:tensorflow:*** Available Device: _DeviceAttributes(/job:worker/replica:0/task:0/device:XLA_CPU:0, XLA_CPU, 0, 0)\n"
          ],
          "name": "stderr"
        }
      ]
    },
    {
      "cell_type": "code",
      "metadata": {
        "id": "I0lFHNvvb1ln",
        "colab_type": "code",
        "colab": {}
      },
      "source": [
        "D_MODEL = 512  # dimensionality of the vectors"
      ],
      "execution_count": null,
      "outputs": []
    },
    {
      "cell_type": "markdown",
      "metadata": {
        "id": "qwyf740OAz7Z",
        "colab_type": "text"
      },
      "source": [
        "We call our particular attention \"Scaled Dot-Product Attention\":\n",
        "\n",
        "![image.png](data:image/png;base64,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)\n",
        "\n",
        "The input consists of queries and keys of dimension $d_k$, and values of dimension $d_v$. We compute the dot products of the\n",
        "query with all keys, divide each by $\\sqrt{d_k}$, and apply a softmax function to obtain the weights on the values.\n",
        "\n",
        "In practice, we compute the attention function on a set of queries simultaneously, packed together into a matrix Q. The keys and values are also packed together into matrices K and V . We compute\n",
        "the matrix of outputs as: \n",
        "\n",
        "$$ Attention(Q, K, V ) = softmax(\\frac{QK^{T}}{\\sqrt{d_k}})V  $$\n",
        "\n",
        "The two most commonly used attention functions are additive attention [2], and dot-product (multiplicative) attention. Dot-product attention is identical to our algorithm, except for the scaling factor of $\\frac{1}{\\sqrt{d_k}$. Additive attention computes the compatibility function using a feed-forward network with a single hidden layer. While the two are similar in theoretical complexity, dot-product attention is much faster and more space-efficient in practice, since it can be implemented using highly optimized matrix multiplication code.\n",
        "\n",
        "While for small values of $d_k$ the two mechanisms perform similarly, additive attention outperforms dot product attention without scaling for larger values of $d_k$ [3]. We suspect that for large values of $d_k$, the dot products grow large in magnitude, pushing the softmax function into regions where it has extremely small gradients. To counteract this effect, we scale the dot products by $\\frac{1}{\\sqrt{d_k}}$."
      ]
    },
    {
      "cell_type": "code",
      "metadata": {
        "id": "z6noso_FA0YC",
        "colab_type": "code",
        "colab": {}
      },
      "source": [
        "def scaled_dot_product_attention(Q, K, V, mask):\n",
        "  \"\"\"Computes scaled-dot-product attention.\n",
        "\n",
        "  Args:\n",
        "    Q:  [batch_size, length_q, num_hidden]\n",
        "    K:  [batch_size, length_v, num_hidden]\n",
        "    V:  [batch_size, length_v, num_hidden]\n",
        "    mask:  [batch_size, length_q, length_v]\n",
        "\n",
        "  Note:  The mask is on the values, as we attend from queries to values by way\n",
        "    of keys.    \n",
        "\n",
        "  Returns:\n",
        "    [batch_size, length_q, num_hidden]\n",
        "  \"\"\"\n",
        "\n",
        "  d_k = tf.shape(input=K)[2]\n",
        "  sqrt_d_k = tf.math.sqrt(tf.cast(d_k, tf.float32))\n",
        "\n",
        "  # [batch_size, length_q, length_v]\n",
        "  attention_logits = tf.matmul(Q, K, transpose_b=True) / sqrt_d_k\n",
        "\n",
        "  if mask is not None:\n",
        "    # [batch_size, length_q, length_v]\n",
        "    negative_weights = (1.0 - tf.cast(mask, tf.float32)) * -10000.0\n",
        "    # Effectively zero out the masked positions by giving them a big negative\n",
        "    # logit.\n",
        "    attention_logits = attention_logits + negative_weights\n",
        "  \n",
        "  # [batch_size, length_q, length_v]\n",
        "  attention_weights = tf.nn.softmax(attention_logits)\n",
        "\n",
        "  return tf.matmul(attention_weights, V)"
      ],
      "execution_count": null,
      "outputs": []
    },
    {
      "cell_type": "markdown",
      "metadata": {
        "id": "xXXBwVhnaSFY",
        "colab_type": "text"
      },
      "source": [
        "*Some helpers for masking - this is not discussed in the paper as it's \"common knowledge\", but it's core.*\n",
        "\n",
        "*The tl'dr is that*\n",
        "- *for the source sequence, we use a vacuous \"full attention\" mask, i.e., every token gets to attend to every other token;*\n",
        "- *same goes for the target to source attention; each target token is allowed to attend to every source token.  Note however that these sequences may be of different length;*\n",
        "- *the target attention is a lower-triangular binary matrix;  this is to ensure that the first token may only attend to itself, the second token may attend to the first and itself, the third to the first, the second, and itself, and so on...*"
      ]
    },
    {
      "cell_type": "code",
      "metadata": {
        "id": "i7zL29Z25nMI",
        "colab_type": "code",
        "cellView": "both",
        "colab": {}
      },
      "source": [
        "def self_attention_mask_for_inputs(seq, padding_token=0):\n",
        "  \"\"\"seq:  [batch_size, seq_length]\"\"\"\n",
        "  return cross_attention_mask_for_inputs(seq, seq, padding_token)\n",
        "\n",
        "def cross_attention_mask_for_inputs(query_seq, value_seq, padding_token=0):\n",
        "  \"\"\"query_seq:  [batch_size, query_seq_length]\n",
        "     value_seq:  [batch_size, value_seq_length]\n",
        "\n",
        "  Returns:\n",
        "    A [batch_size, query_seq_length, value_seq_length] attention mask.\n",
        "  \"\"\"\n",
        "  batch_size, query_length = tf.shape(query_seq)\n",
        "  _, value_length = tf.shape(value_seq)\n",
        "\n",
        "  full_attention = tf.ones(shape=(batch_size, query_length, value_length), dtype=tf.int32)\n",
        "\n",
        "  query_mask = tf.cast(query_seq == padding_token, tf.int32)\n",
        "  value_mask = tf.cast(value_seq != padding_token, tf.int32)\n",
        "  return (full_attention - tf.expand_dims(query_mask, axis=2)) * tf.expand_dims(value_mask, axis=1)\n",
        "\n",
        "def sequence_mask(q):\n",
        "  \"\"\"q:  [batch_size, seq_length]\n",
        "\n",
        "  Returns:\n",
        "    A [1, seq_length, seq_length] lower-triangular binary matrix.\n",
        "  \"\"\"\n",
        "  seq_length = tf.shape(q)[1]\n",
        "  return tf.expand_dims(\n",
        "      tf.linalg.band_part(\n",
        "          tf.ones(shape=(seq_length, seq_length), dtype=tf.int32), -1, 0), \n",
        "          axis=0)"
      ],
      "execution_count": null,
      "outputs": []
    },
    {
      "cell_type": "markdown",
      "metadata": {
        "id": "YD_7Oe98CkHf",
        "colab_type": "text"
      },
      "source": [
        "Instead of performing a single attention function with $d_\\text{model}$-dimensional keys, values and queries, we found it beneficial to linearly project the queries, keys and values $h$ times with different, learned linear projections to $d_k$, $d_k$ and $d_v$ dimensions, respectively. On each of these projected versions of queries, keys and values we then perform the attention function in parallel, yielding $d_v$-dimensional output values. These are concatenated and once again projected, resulting in the final values, as depicted in this figure:\n",
        "\n",
        "![image.png](data:image/png;base64,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)\n",
        "\n",
        "Multi-head attention allows the model to jointly attend to information from different representation subspaces at different positions. With a single attention head, averaging inhibits this.\n",
        "\n",
        "\\begin{align}\n",
        "  \\text{MultiHead}(Q, K, V ) & = \\text{Concat}(\\text{head}_1, \\dots, \\text{head}_h)W^{O} \\\\\n",
        "  \\text{where head}_i& = \\text{Attention}(QW^{Q}_i, KW^{K}_i, VW^{V}_i)\n",
        "\\end{align}\n",
        "\n",
        "Where the projections are parameter matrices $W^Q_i \\in \\mathbb{R}^{d_{\\text{model}}\\times d_k}$, $W^K_i \\in \\mathbb{R}^{d_{\\text{model}}\\times d_k}$, $W^V_i \\in \\mathbb{R}^{d_{\\text{model}}\\times d_v}$ and $W^O \\in \\mathbb{R}^{hd_v \\times d_{\\text{model}}}$.\n",
        "\n",
        "In this work we employ $h = 8$ parallel attention layers, or heads. For each of these we use $d_k = d_v = d_{\\text{model}}/h = 64$. Due to the reduced dimension of each head, the total computational cost\n",
        "is similar to that of single-head attention with full dimensionality."
      ]
    },
    {
      "cell_type": "code",
      "metadata": {
        "id": "XUqFdcnuCjNm",
        "colab_type": "code",
        "colab": {}
      },
      "source": [
        "class MultiHeadAttention(tf.keras.layers.Layer):\n",
        "\n",
        "  def __init__(self, num_heads=8):\n",
        "    super().__init__()\n",
        "\n",
        "    self.num_heads = num_heads\n",
        "\n",
        "  def build(self, input_shape):\n",
        "    # Keras only passes the first argument to build, which in our case is\n",
        "    # `Q`.  Because we assume that all dimensionalities are identical, this is\n",
        "    # not an issue.\n",
        "    d_model = input_shape[-1]\n",
        "\n",
        "    d_h = d_model // self.num_heads\n",
        "\n",
        "    # The weight matrices, one set of of Q,K,V for each head.\n",
        "    self.W = {}\n",
        "    for x in ('Q', 'K', 'V'):\n",
        "      for i in range(self.num_heads):\n",
        "        # <float> [d_model, d_h]\n",
        "        self.W[f'{x}_{i}'] = self.add_weight(f'{x}_{i}',\n",
        "                                             shape=(d_model, d_h))     \n",
        "        \n",
        "    # The single O-matrix.        \n",
        "    self.W['O'] = self.add_weight('O',\n",
        "                                  shape=(d_model, d_model))\n",
        "    \n",
        "  def call(self, Q, K, V, mask=None):\n",
        "    \"\"\"\n",
        "    Args:\n",
        "      Q:  [batch_size, length_q, d_model]\n",
        "      K:  [batch_size, length_v, d_model]\n",
        "      V:  [batch_size, length_v, d_model]\n",
        "      mask:  [batch_size, length_v]\n",
        "    \"\"\"\n",
        "    # Note:  A pattern more commonly observed is to use a single linear\n",
        "    #        projection (d_model, d_model) for Q, one for K, one for V, and\n",
        "    #        then splitting the resulting d_model-dimensional vectors into\n",
        "    #        num_heads d_h-dimensional vectors.\n",
        "    #        This makes for a more efficient implementation but obfuscates the\n",
        "    #        relation to the original paper description.\n",
        "\n",
        "    heads = []\n",
        "    for i in range(self.num_heads):\n",
        "      heads.append(\n",
        "          # Compute the i-th head attention.\n",
        "          scaled_dot_product_attention(\n",
        "              # Linearly project queries / keys / values for the i-th head.\n",
        "              Q=tf.matmul(Q, self.W[f'Q_{i}']),\n",
        "              K=tf.matmul(K, self.W[f'K_{i}']),\n",
        "              V=tf.matmul(V, self.W[f'V_{i}']),\n",
        "              mask=mask))\n",
        "      \n",
        "    concat = tf.concat(heads, axis=-1)\n",
        "    return tf.matmul(concat, self.W['O'])"
      ],
      "execution_count": null,
      "outputs": []
    },
    {
      "cell_type": "markdown",
      "metadata": {
        "id": "l-VWWDNYHJEu",
        "colab_type": "text"
      },
      "source": [
        "Since our model contains no recurrence and no convolution, in order for the model to make use of the order of the sequence, we must inject some information about the relative or absolute position of the tokens in the sequence. To this end, we add \"positional encodings\" to the input embeddings at the\n",
        "bottoms of the encoder and decoder stacks. The positional encodings have the same dimension dmodel\n",
        "as the embeddings, so that the two can be summed. There are many choices of positional encodings, learned and fixed [9].\n",
        "\n",
        "In this work, we use sine and cosine functions of different frequencies:\n",
        "\n",
        "\\begin{align}\n",
        "  PE_{(pos,2i)} &= \\sin(pos/10000^{2i/d_{\\text{model}}}) \\\\\n",
        "  PE_{(pos,2i+1)} &= \\cos(pos/10000^{2i/d_{\\text{model}}})\n",
        "\\end{align}"
      ]
    },
    {
      "cell_type": "markdown",
      "metadata": {
        "id": "GyPNe6trbJCE",
        "colab_type": "text"
      },
      "source": [
        "*We only compute this once, so we keep this simple*."
      ]
    },
    {
      "cell_type": "code",
      "metadata": {
        "id": "uvDID6DSE5tK",
        "colab_type": "code",
        "colab": {
          "base_uri": "https://localhost:8080/",
          "height": 286
        },
        "outputId": "87141007-7d07-48ac-c745-953f2aa24811"
      },
      "source": [
        "def position_encoding(pos, hidden_dimensions: int):\n",
        "  \"\"\"Compute the embedding vector for position `pos`.\"\"\"\n",
        "  def dimension(i):\n",
        "    fix_term = pos / math.pow(10000.0, 2.0*i / hidden_dimensions)\n",
        "    if i % 2.0 == 0.0:\n",
        "      return math.sin(fix_term)\n",
        "    else:\n",
        "      return math.cos(fix_term)\n",
        "\n",
        "  vector_for_pos = []\n",
        "  for i in range(hidden_dimensions):\n",
        "    vector_for_pos.append(dimension(i))\n",
        "\n",
        "  return vector_for_pos\n",
        "\n",
        "def make_position_embeddings(seq_length: int, d_model: int):\n",
        "  \"\"\"Compute the matrix of position vectors we can just add to the learned\n",
        "     word-embeddings.\"\"\"\n",
        "  vectors = []\n",
        "  for pos in range(seq_length):\n",
        "    vectors.append(position_encoding(pos=pos,\n",
        "                                     hidden_dimensions=d_model))\n",
        "\n",
        "  return tf.convert_to_tensor(vectors)\n",
        "\n",
        "# 512 tokens should be enough for anyone...\n",
        "POSITION_EMBEDDINGS = make_position_embeddings(seq_length=512, d_model=D_MODEL)\n",
        "plt.imshow(POSITION_EMBEDDINGS)"
      ],
      "execution_count": null,
      "outputs": [
        {
          "output_type": "execute_result",
          "data": {
            "text/plain": [
              "<matplotlib.image.AxesImage at 0x7f989d524668>"
            ]
          },
          "metadata": {
            "tags": []
          },
          "execution_count": 7
        },
        {
          "output_type": "display_data",
          "data": {
            "image/png": "[encoded data removed]",
            "text/plain": [
              "<Figure size 432x288 with 1 Axes>"
            ]
          },
          "metadata": {
            "tags": [],
            "needs_background": "light"
          }
        }
      ]
    },
    {
      "cell_type": "markdown",
      "metadata": {
        "id": "VMtvR73AH2wp",
        "colab_type": "text"
      },
      "source": [
        "Similarly to other sequence transduction models, we use learned embeddings to convert the input tokens and output tokens to vectors of dimension $d_{\\text{model}}$. We also use the usual learned linear transformation and softmax function to convert the decoder output to predicted next-token probabilities. In our model, we share the same weight matrix between the two embedding layers and the pre-softmax linear transformation, similar to [30]. In the embedding layers, we multiply those weights by $\\sqrt{d_{\\text{model}}}$."
      ]
    },
    {
      "cell_type": "code",
      "metadata": {
        "id": "srt0UPELHjlA",
        "colab_type": "code",
        "colab": {}
      },
      "source": [
        "class InputEmbedding(tf.keras.layers.Layer):\n",
        "\n",
        "  def __init__(self, d_model: int, vocab_size: int):\n",
        "    super().__init__()\n",
        "    self.d_model = d_model\n",
        "    self.vocab_size = vocab_size\n",
        "\n",
        "    self.embeddings = tf.keras.layers.Embedding(input_dim=self.vocab_size, \n",
        "                                                output_dim=self.d_model)\n",
        "    \n",
        "    self.dropout = tf.keras.layers.Dropout(rate=0.1)\n",
        "    \n",
        "   \n",
        "  def call(self, inputs):\n",
        "    \"\"\"\n",
        "    Args:\n",
        "      inputs:  [batch_size, seq_length]\n",
        "    \"\"\"\n",
        "    seq_length = tf.shape(inputs)[1]\n",
        "\n",
        "    # [batch_size, seq_length, d_model]\n",
        "    token_embeddings = self.embeddings(inputs)* tf.math.sqrt(tf.cast(self.d_model, tf.float32))\n",
        "\n",
        "    # [1, seq_length, d_model]\n",
        "    position_embeddings = tf.expand_dims(POSITION_EMBEDDINGS[:seq_length, :],\n",
        "                                         axis=0)\n",
        "\n",
        "    # \"we apply dropout to the sums of the embeddings and the positional encodings in both the encoder and decoder stacks\"\n",
        "    return self.dropout(token_embeddings + position_embeddings)\n",
        "\n",
        "  # Expose the weights so we can potentially re-use them.\n",
        "  def get_weights(self):\n",
        "    return self.embeddings.trainable_weights[0]"
      ],
      "execution_count": null,
      "outputs": []
    },
    {
      "cell_type": "markdown",
      "metadata": {
        "id": "sAGFlOBoIF7G",
        "colab_type": "text"
      },
      "source": [
        "In addition to attention sub-layers, each of the layers in our encoder and decoder contains a fully connected feed-forward network, which is applied to each position separately and identically. This consists of two linear transformations with a ReLU activation in between.\n",
        "\n",
        "\\begin{equation}\n",
        "\\text{FFN}(x) = \\max(0, xW_1 + b_1)W_2 + b_2 \n",
        "\\end{equation}\n",
        "\n",
        "While the linear transformations are the same across different positions, they use different parameters from layer to layer. Another way of describing this is as two convolutions with kernel size 1. The dimensionality of input and output is $d_\\text{model} = 512$, and the inner-layer has dimensionality $d_{ff} = 2048$."
      ]
    },
    {
      "cell_type": "code",
      "metadata": {
        "id": "4yWz__wvK4ER",
        "colab_type": "code",
        "colab": {}
      },
      "source": [
        "class FFN(tf.keras.layers.Layer):\n",
        "  def __init__(self, d_ff=2048):\n",
        "    super().__init__()\n",
        "    self.d_ff = d_ff\n",
        "\n",
        "\n",
        "  def build(self, input_shape):\n",
        "    d_model = input_shape[-1]\n",
        "\n",
        "    self.W1 = self.add_weight(shape=(d_model, self.d_ff))\n",
        "    self.b1 = self.add_weight(shape=(self.d_ff,))\n",
        "    self.W2 = self.add_weight(shape=(self.d_ff, d_model))\n",
        "    self.b2 = self.add_weight(shape=(d_model,))\n",
        "\n",
        "\n",
        "  def call(self, inputs):\n",
        "    \"\"\"\n",
        "    Args:\n",
        "      inputs:  [batch_size, seq_length, d_model]\n",
        "    \"\"\"\n",
        "    return tf.matmul(\n",
        "        tf.nn.relu(tf.matmul(inputs, self.W1) + self.b1), self.W2) + self.b2"
      ],
      "execution_count": null,
      "outputs": []
    },
    {
      "cell_type": "markdown",
      "metadata": {
        "id": "hg_jjLeCLfb9",
        "colab_type": "text"
      },
      "source": [
        "**Encoder:** The encoder is composed of a stack of $N = 6$ identical layers. Each layer has two sub-layers. The first is a multi-head self-attention mechanism, and the second is a simple, positionwise fully connected feed-forward network. We employ a residual connection [11] around each of the two sub-layers, followed by layer normalization [1]. That is, the output of each sub-layer is $\\text{LayerNorm}(x + \\text{Sublayer}(x))$, where $\\text{Sublayer}(x)$ is the function implemented by the sub-layer\n",
        "itself. To facilitate these residual connections, all sub-layers in the model, as well as the embedding layers, produce outputs of dimension $d_\\text{model} = 512$."
      ]
    },
    {
      "cell_type": "code",
      "metadata": {
        "id": "pDNpQd8yLwUI",
        "colab_type": "code",
        "colab": {}
      },
      "source": [
        "class EncoderLayer(tf.keras.layers.Layer):\n",
        "  def __init__(self, num_heads=8, d_ff=2048):\n",
        "    super().__init__()\n",
        "\n",
        "    self.mh_attention = MultiHeadAttention(num_heads=num_heads)\n",
        "    self.ffn = FFN(d_ff=d_ff)\n",
        "\n",
        "    self.attention_layer_norm = tf.keras.layers.LayerNormalization()\n",
        "    self.ffn_layer_norm = tf.keras.layers.LayerNormalization()\n",
        "\n",
        "    self.dropout = tf.keras.layers.Dropout(rate=0.1)    \n",
        "\n",
        "  def call(self, inputs, mask):\n",
        "    \"\"\"\n",
        "    Args:\n",
        "      inputs:  [batch_size, seq_length, d_model]\n",
        "      mask:    [batch_size, seq_length] or None\n",
        "    \"\"\"\n",
        "\n",
        "    # We apply dropout [33] to the output of each sub-layer, before it is added to the\n",
        "    # sub-layer input and normalized.\n",
        "    attention_layer_output = self.attention_layer_norm(\n",
        "        inputs + self.dropout(self.mh_attention(Q=inputs, K=inputs, V=inputs, mask=mask)))\n",
        "    ffn_layer_output = self.ffn_layer_norm(\n",
        "        attention_layer_output + self.dropout(self.ffn(attention_layer_output)))\n",
        "    return ffn_layer_output"
      ],
      "execution_count": null,
      "outputs": []
    },
    {
      "cell_type": "code",
      "metadata": {
        "id": "JBj3f6NZbpPM",
        "colab_type": "code",
        "colab": {}
      },
      "source": [
        "class DecoderLayer(tf.keras.layers.Layer):\n",
        "  def __init__(self, num_heads=8, d_ff=2048):\n",
        "    super().__init__()\n",
        "\n",
        "    self.mh_self_attention = MultiHeadAttention(num_heads=num_heads)\n",
        "    self.ffn = FFN(d_ff=d_ff)\n",
        "    self.mh_cross_attention = MultiHeadAttention(num_heads=num_heads)\n",
        "\n",
        "    self.self_attention_layer_norm = tf.keras.layers.LayerNormalization()\n",
        "    self.cross_attention_layer_norm = tf.keras.layers.LayerNormalization()\n",
        "    self.ffn_layer_norm = tf.keras.layers.LayerNormalization()\n",
        "\n",
        "    self.dropout = tf.keras.layers.Dropout(rate=0.1)\n",
        "\n",
        "  def call(self, inputs, encoder_outputs, cross_attention_mask, self_attention_mask):\n",
        "    \"\"\"\n",
        "    Args:\n",
        "      inputs:  [batch_size, seq_length_trg, d_model]\n",
        "      encoder_outputs:  [batch_size, seq_length_src, d_model]\n",
        "      srcs_mask:  [batch_size, seq_length_src]\n",
        "      trg_mask:  [batch_size, seq_length_trg]\n",
        "    \"\"\"\n",
        "    # We apply dropout [33] to the output of each sub-layer, before it is added to the\n",
        "    # sub-layer input and normalized.\n",
        "    self_attention_output = self.self_attention_layer_norm(\n",
        "        inputs + self.dropout(self.mh_self_attention(Q=inputs,\n",
        "                                                     K=inputs,\n",
        "                                                     V=inputs,\n",
        "                                                     mask=self_attention_mask)))\n",
        "    \n",
        "    cross_attention_output = self.cross_attention_layer_norm(\n",
        "        self_attention_output + self.dropout(self.mh_cross_attention(\n",
        "            Q=self_attention_output,\n",
        "            K=encoder_outputs,\n",
        "            V=encoder_outputs,\n",
        "            mask=cross_attention_mask)))\n",
        "    \n",
        "    ffn_output = self.ffn_layer_norm(cross_attention_output + \n",
        "                                     self.dropout(self.ffn(cross_attention_output)))\n",
        "    \n",
        "    return ffn_output"
      ],
      "execution_count": null,
      "outputs": []
    },
    {
      "cell_type": "code",
      "metadata": {
        "id": "K3CoY_5Pcb5z",
        "colab_type": "code",
        "colab": {}
      },
      "source": [
        "def make_encoder(vocab_size, \n",
        "                 d_model=512, \n",
        "                 n_layers=6, \n",
        "                 num_heads=8):\n",
        "  # [batch_size, seq_length]\n",
        "  input_ids = tf.keras.Input(shape=(None,), dtype=tf.int32, name='input_ids')\n",
        "\n",
        "  # [batch_size, seq_length, d_model]\n",
        "  input_embedder = InputEmbedding(d_model=d_model, vocab_size=vocab_size)\n",
        "\n",
        "  # [batch_size, seq_length, num_hidden]\n",
        "  embedded = input_embedder(input_ids)\n",
        "\n",
        "  # Run the encoder tower.\n",
        "  for _ in tf.range(n_layers):\n",
        "    embedded = EncoderLayer(num_heads=num_heads)(inputs=embedded, mask=self_attention_mask_for_inputs(seq=input_ids))\n",
        "\n",
        "  return tf.keras.Model(inputs=(input_ids,), outputs=embedded)"
      ],
      "execution_count": null,
      "outputs": []
    },
    {
      "cell_type": "code",
      "metadata": {
        "id": "m5rsddCLcoxg",
        "colab_type": "code",
        "colab": {}
      },
      "source": [
        "def make_decoder(vocab_size, input_embedder, d_model=512, n_layers=6, num_heads=8):\n",
        "  # [batch_size, q_seq_length]\n",
        "  input_ids = tf.keras.Input(shape=(None,), dtype=tf.int32, name='input_ids')\n",
        "  # [batch_size, v_seq_length]\n",
        "  source_ids = tf.keras.Input(shape=(None,), dtype=tf.int32, name='source_ids')\n",
        "  # [batch_size, v_seq_length, d_model]\n",
        "  encoder_outputs = tf.keras.Input(shape=(None, d_model), dtype=tf.float32, name='encoder_outputs')\n",
        "\n",
        "  # [batch_size, q_seq_length, q_seq_length]\n",
        "  input_masks = sequence_mask(input_ids)\n",
        "\n",
        "  # [batch_size, q_seq_length, v_seq_length]\n",
        "  cross_attention_masks = cross_attention_mask_for_inputs(query_seq=input_ids, \n",
        "                                                          value_seq=source_ids)\n",
        "\n",
        "  # [batch_size, input_seq_length, d_model]\n",
        "  embedded = input_embedder(input_ids)\n",
        "\n",
        "  # Run the decoder tower.\n",
        "  for _ in tf.range(n_layers):\n",
        "    embedded = DecoderLayer(num_heads=num_heads)(inputs=embedded, \n",
        "                              encoder_outputs=encoder_outputs, \n",
        "                              cross_attention_mask=cross_attention_masks, \n",
        "                              self_attention_mask=input_masks)\n",
        "    \n",
        "  return tf.keras.Model(inputs=(input_ids, source_ids, encoder_outputs),\n",
        "                        outputs=embedded)"
      ],
      "execution_count": null,
      "outputs": []
    },
    {
      "cell_type": "code",
      "metadata": {
        "id": "jf4hmv0Pfdz5",
        "colab_type": "code",
        "colab": {}
      },
      "source": [
        "def make_generator(d_model, weights):\n",
        "  # [batch_size, seq_length, d_model]\n",
        "  input_embeddings = tf.keras.Input(shape=(None, d_model), dtype=tf.float32, name='input_embeddings')\n",
        "\n",
        "  # [batch_size, seq_length, vocab_size]\n",
        "  output_logits = tf.matmul(input_embeddings, weights, transpose_b=True)\n",
        "\n",
        "  return tf.keras.Model(inputs=(input_embeddings,), outputs=output_logits)"
      ],
      "execution_count": null,
      "outputs": []
    },
    {
      "cell_type": "markdown",
      "metadata": {
        "id": "ar1OGddBsJii",
        "colab_type": "text"
      },
      "source": [
        "We used the Adam optimizer [20] with $\\beta_1 = 0.9$, $\\beta_2 = 0.98$ and $\\epsilon = 10^{−9}$. We varied the learning rate over the course of training, according to the formula:\n",
        "\\begin{equation}\n",
        "lrate = d_{\\text{model}}^{−0.5} \\cdot \\min(step_{num}^{−0.5}\n",
        ", step_{num} · warmup\\_steps^{−1.5})\n",
        "\\end{equation}\n",
        "\n",
        "This corresponds to increasing the learning rate linearly for the first warmup_steps training steps,\n",
        "and decreasing it thereafter proportionally to the inverse square root of the step number. We used\n",
        "warmup_steps = 4000."
      ]
    },
    {
      "cell_type": "code",
      "metadata": {
        "id": "ZdJdXLarslK8",
        "colab_type": "code",
        "colab": {
          "base_uri": "https://localhost:8080/",
          "height": 282
        },
        "outputId": "82962cc7-c848-4365-92f5-ebfe9d0ea33e"
      },
      "source": [
        "@tf.function\n",
        "def lrate(step, \n",
        "          warmup_steps, \n",
        "          d_model):\n",
        "  return tf.math.pow(d_model, -0.5) * tf.minimum(tf.math.pow(step+1.0, -0.5), (step+1.0) * tf.math.pow(warmup_steps, -1.5))\n",
        "\n",
        "class LRate(tf.keras.optimizers.schedules.LearningRateSchedule):\n",
        "\n",
        "  def __init__(self, warmup_steps, d_model=512):\n",
        "    super().__init__()\n",
        "    self.warmup_steps = tf.cast(warmup_steps, tf.float32)\n",
        "    self.d_model = tf.cast(d_model, tf.float32)\n",
        "\n",
        "  def __call__(self, step):\n",
        "    return lrate(step=tf.cast(step, tf.float32), \n",
        "                 warmup_steps=self.warmup_steps, \n",
        "                 d_model=self.d_model)\n",
        "\n",
        "legend = []\n",
        "steps = 10000\n",
        "for warmup_steps in (4000,):\n",
        "  for model_size in (64, 512):\n",
        "    lr_fn = LRate(warmup_steps=warmup_steps, d_model=model_size)\n",
        "    plt.plot(range(steps), [lr_fn(x) for x in range(steps)])\n",
        "    legend.append(f'{model_size}:{warmup_steps}')\n",
        "plt.legend(legend)"
      ],
      "execution_count": null,
      "outputs": [
        {
          "output_type": "execute_result",
          "data": {
            "text/plain": [
              "<matplotlib.legend.Legend at 0x7f98d1155240>"
            ]
          },
          "metadata": {
            "tags": []
          },
          "execution_count": 15
        },
        {
          "output_type": "display_data",
          "data": {
            "image/png": "[encoded data removed]",
            "text/plain": [
              "<Figure size 432x288 with 1 Axes>"
            ]
          },
          "metadata": {
            "tags": [],
            "needs_background": "light"
          }
        }
      ]
    },
    {
      "cell_type": "markdown",
      "metadata": {
        "id": "_pajCNs4AOgd",
        "colab_type": "text"
      },
      "source": [
        "*Now perform a toy task, copying the input.  Depending on the runtim, this should work with CPU (extremely slow), GPU (fairly slow), and TPU (reasonably fast).*"
      ]
    },
    {
      "cell_type": "markdown",
      "metadata": {
        "id": "sNPF7vnlxFGd",
        "colab_type": "text"
      },
      "source": [
        "*A toy task - copy the input.*"
      ]
    },
    {
      "cell_type": "code",
      "metadata": {
        "id": "QcFcENzbd3aU",
        "colab_type": "code",
        "colab": {}
      },
      "source": [
        "def make_copy_example_batch(batch_size, seq_length, vocab_size):\n",
        "  \"\"\"Copy task.\n",
        "\n",
        "  Returns (x, y, y_target), where\n",
        "    x is a random sequence of at most length `seq_length`;\n",
        "    y is x, but prepended with a `1` as the \"start token\";\n",
        "    \n",
        "    The target will be x itself.\n",
        "  \"\"\"\n",
        "  x = tf.random.uniform(shape=(batch_size, seq_length), minval=1, maxval=vocab_size, dtype=tf.int32)\n",
        "  y = tf.concat((tf.ones(shape=(batch_size, 1), dtype=tf.int32), x), axis=1)\n",
        "\n",
        "  return (x, y)\n",
        "\n",
        "def make_dataset(batch_size, seq_length, vocab_size, num_batches):\n",
        "  data = []\n",
        "  labels = []\n",
        "  for _ in range(num_batches):\n",
        "    d, l = make_copy_example_batch(batch_size=batch_size,\n",
        "                                    seq_length=seq_length, vocab_size=vocab_size)\n",
        "    data.append(d)\n",
        "    labels.append(l)\n",
        "  return tf.data.Dataset.from_tensor_slices((data, labels))"
      ],
      "execution_count": null,
      "outputs": []
    },
    {
      "cell_type": "code",
      "metadata": {
        "id": "0bNKRkwwjXDc",
        "colab_type": "code",
        "colab": {}
      },
      "source": [
        "def train_model(global_batch_size, seq_length, vocab_size, num_batches, num_epochs, n_layers=2, num_heads=8):\n",
        "  with strategy.scope():\n",
        "    encoder = make_encoder(vocab_size=vocab_size, d_model=D_MODEL, n_layers=n_layers, num_heads=num_heads)\n",
        "\n",
        "    decoder_embedder = InputEmbedding(d_model=D_MODEL, vocab_size=vocab_size)\n",
        "    decoder = make_decoder(vocab_size=vocab_size,\n",
        "                          input_embedder=decoder_embedder,\n",
        "                          d_model=D_MODEL, n_layers=n_layers, \n",
        "                          num_heads=num_heads)\n",
        "\n",
        "    generator = make_generator(d_model=D_MODEL, weights=decoder_embedder.get_weights())\n",
        "    optimizer = tf.keras.optimizers.Adam(learning_rate=LRate(warmup_steps=4000, d_model=D_MODEL), \n",
        "                                        beta_1=0.9, \n",
        "                                        beta_2=0.98, \n",
        "                                        epsilon=1e-9)\n",
        "\n",
        "  trainable_variables = encoder.trainable_variables + decoder.trainable_variables + generator.trainable_variables\n",
        "  loss_val = 0\n",
        "\n",
        "  def step_fn(x, y):\n",
        "    with tf.GradientTape() as tape:\n",
        "      encoder_output = encoder({\n",
        "          'input_ids': x,\n",
        "      }, training=True)\n",
        "    \n",
        "      decoder_outputs = decoder(\n",
        "          {'input_ids': y,\n",
        "           'source_ids': x,\n",
        "           'encoder_outputs': encoder_output,\n",
        "          }, training=True)\n",
        "      \n",
        "      # Skip prediction from the last token.\n",
        "      generator_outputs = generator({'input_embeddings': decoder_outputs}, \n",
        "                                    training=True)[:, :-1, :]\n",
        "\n",
        "      loss = tf.reduce_mean(tf.keras.losses.categorical_crossentropy(\n",
        "          y_true=tf.one_hot(indices=x, depth=vocab_size),\n",
        "          y_pred=generator_outputs,\n",
        "          from_logits=True,\n",
        "          label_smoothing=0.0))\n",
        "    \n",
        "    gradients = tape.gradient(loss, trainable_variables)\n",
        "    optimizer.apply_gradients(zip(gradients, trainable_variables))  \n",
        "    return loss\n",
        "\n",
        "  @tf.function\n",
        "  def epoch_fn(dataset):\n",
        "    loss_val = 0.\n",
        "    num_batches = 0.\n",
        "    for (x, y) in dataset:\n",
        "      loss_val += strategy.reduce(\n",
        "          tf.distribute.ReduceOp.MEAN, \n",
        "          strategy.run(\n",
        "              step_fn, (x, y,)), \n",
        "          axis=None)\n",
        "      num_batches += 1\n",
        "    return loss_val / num_batches\n",
        "\n",
        "  dataset = strategy.experimental_distribute_dataset(\n",
        "      make_dataset(batch_size=global_batch_size, \n",
        "                   seq_length=seq_length, \n",
        "                   vocab_size=vocab_size, \n",
        "                   num_batches=num_batches))\n",
        "  tokens_per_epoch = num_batches * seq_length * global_batch_size\n",
        "\n",
        "  for epoch in range(num_epochs):\n",
        "    start_time = tf.timestamp()\n",
        "    loss_val = epoch_fn(dataset)\n",
        "    epoch_time = tf.timestamp() - start_time\n",
        "    \n",
        "    tokens_per_second = tokens_per_epoch / epoch_time\n",
        "    print(f'Epoch {epoch}: {loss_val}, tokens/sec: {tokens_per_second}')\n",
        "\n",
        "  return {\n",
        "      'encoder': encoder,\n",
        "      'decoder': decoder,\n",
        "      'generator': generator,\n",
        "  }"
      ],
      "execution_count": null,
      "outputs": []
    },
    {
      "cell_type": "code",
      "metadata": {
        "id": "KgSaVzWMjt_-",
        "colab_type": "code",
        "colab": {}
      },
      "source": [
        "def greedy_decode(model, input_seq):\n",
        "  batch_size, seq_length = tf.shape(input_seq)\n",
        "  encoder_output = model['encoder']({\n",
        "      'input_ids': input_seq,\n",
        "  })\n",
        "\n",
        "  target_seq = tf.ones(shape=(batch_size, 1), dtype=tf.int32)\n",
        "  \n",
        "  for pos in range(seq_length): \n",
        "    _, trg_len = tf.shape(target_seq)  \n",
        "    decoder_outputs = model['decoder'](\n",
        "        {'input_ids': target_seq,\n",
        "          'source_ids': input_seq,\n",
        "          'encoder_outputs': encoder_output,\n",
        "        })\n",
        "    \n",
        "    # [batch_size, trg_len, vocab_size]\n",
        "    generator_outputs = model['generator']({'input_embeddings': decoder_outputs})\n",
        "    predictions = tf.argmax(generator_outputs[:, -1, :], axis=-1, output_type=tf.int32)\n",
        "    target_seq = tf.concat((target_seq, tf.expand_dims(predictions, axis=1)), axis=-1)\n",
        "\n",
        "  return target_seq[:, 1:]\n",
        "\n",
        "def evaluate(model, seq_length, vocab_size):\n",
        "  test_set_size = 128\n",
        "  test_seq_lengths = (10, 50, 100, 105, 110, 120, 150)\n",
        "  for l in test_seq_lengths:\n",
        "    x, _ = make_copy_example_batch(batch_size=test_set_size, seq_length=l, vocab_size=vocab_size)\n",
        "    x_hat = greedy_decode(model, x)\n",
        "    \n",
        "    print(f'l={l}, accuracy={tf.reduce_sum(tf.cast(x==x_hat, dtype=tf.float32)).numpy() / (l*test_set_size)}')\n",
        "    if l > seq_length:\n",
        "      x_over = x[:, seq_length:]\n",
        "      x_hat_over = x_hat[:, seq_length:]\n",
        "      print(f'  l={l}, excess accuracy={tf.reduce_sum(tf.cast(x_over==x_hat_over, dtype=tf.float32)).numpy() / ((l-seq_length)*test_set_size)}')"
      ],
      "execution_count": null,
      "outputs": []
    },
    {
      "cell_type": "markdown",
      "metadata": {
        "id": "9Wrpm-AOM2jj",
        "colab_type": "text"
      },
      "source": [
        "Train models on sequences of differing length.  Not surprising anyone, despite being able to perfectly fit, say, sequences of 100 when explicitly trained on them, when trained on sequences of length 50, performance breaks down when going beyond the length."
      ]
    },
    {
      "cell_type": "code",
      "metadata": {
        "id": "819-L5QjNCnm",
        "colab_type": "code",
        "colab": {
          "base_uri": "https://localhost:8080/",
          "height": 1000
        },
        "outputId": "f6642b61-a7de-4b4e-c129-3809bd5bf0c7"
      },
      "source": [
        "vocab_size = 11\n",
        "for train_length in (10, 50, 100):\n",
        "  print(f'Training a model on sequences of length {train_length}')\n",
        "  model = train_model(global_batch_size=64, seq_length=train_length, vocab_size=vocab_size, num_batches=100, num_epochs=10)\n",
        "  evaluate(model=model, seq_length=train_length, vocab_size=vocab_size)\n",
        "  print('')"
      ],
      "execution_count": null,
      "outputs": [
        {
          "output_type": "stream",
          "text": [
            "Training a model on sequences of length 10\n",
            "Epoch 0: 2.2891876697540283, tokens/sec: 982.1071887895989\n",
            "Epoch 1: 1.8967583179473877, tokens/sec: 46015.82124906168\n",
            "Epoch 2: 1.558152675628662, tokens/sec: 43523.91001922971\n",
            "Epoch 3: 1.01461923122406, tokens/sec: 42783.8632423271\n",
            "Epoch 4: 0.4761119782924652, tokens/sec: 42471.01443428217\n",
            "Epoch 5: 0.1986444592475891, tokens/sec: 42625.913799364855\n",
            "Epoch 6: 0.11062534153461456, tokens/sec: 42282.655611202164\n",
            "Epoch 7: 0.08101654052734375, tokens/sec: 42066.2744656181\n",
            "Epoch 8: 0.06458187848329544, tokens/sec: 41331.52077596917\n",
            "Epoch 9: 0.05740635097026825, tokens/sec: 43855.29533391625\n",
            "l=10, accuracy=0.99921875\n",
            "l=50, accuracy=0.305\n",
            "  l=50, excess accuracy=0.14453125\n",
            "l=100, accuracy=0.204765625\n",
            "  l=100, excess accuracy=0.12352430555555556\n",
            "l=105, accuracy=0.1959077380952381\n",
            "  l=105, excess accuracy=0.11842105263157894\n",
            "l=110, accuracy=0.19183238636363636\n",
            "  l=110, excess accuracy=0.117421875\n",
            "l=120, accuracy=0.18841145833333334\n",
            "  l=120, excess accuracy=0.12017045454545454\n",
            "l=150, accuracy=0.16973958333333333\n",
            "  l=150, excess accuracy=0.11640625\n",
            "\n",
            "Training a model on sequences of length 50\n",
            "Epoch 0: 2.3785831928253174, tokens/sec: 4563.400441094017\n",
            "Epoch 1: 2.2510690689086914, tokens/sec: 169912.9785735373\n",
            "Epoch 2: 2.203803062438965, tokens/sec: 169995.12246834766\n",
            "Epoch 3: 1.9776948690414429, tokens/sec: 170292.20795286447\n",
            "Epoch 4: 1.4490209817886353, tokens/sec: 170175.29036285912\n",
            "Epoch 5: 0.8714917898178101, tokens/sec: 170343.23562693514\n",
            "Epoch 6: 0.5176935791969299, tokens/sec: 169497.71025200677\n",
            "Epoch 7: 0.27423107624053955, tokens/sec: 170398.12287205044\n",
            "Epoch 8: 0.1461280882358551, tokens/sec: 170199.26534859548\n",
            "Epoch 9: 0.08493287861347198, tokens/sec: 170331.90791210308\n",
            "l=10, accuracy=0.95234375\n",
            "l=50, accuracy=0.99265625\n",
            "l=100, accuracy=0.553984375\n",
            "  l=100, excess accuracy=0.14734375\n",
            "l=105, accuracy=0.5256696428571429\n",
            "  l=105, excess accuracy=0.134375\n",
            "l=110, accuracy=0.5087357954545455\n",
            "  l=110, excess accuracy=0.14166666666666666\n",
            "l=120, accuracy=0.46829427083333336\n",
            "  l=120, excess accuracy=0.12834821428571427\n",
            "l=150, accuracy=0.3975\n",
            "  l=150, excess accuracy=0.1246875\n",
            "\n",
            "Training a model on sequences of length 100\n",
            "Epoch 0: 2.3857810497283936, tokens/sec: 9261.468626676946\n",
            "Epoch 1: 2.292470693588257, tokens/sec: 271224.48449652625\n",
            "Epoch 2: 2.2691667079925537, tokens/sec: 273168.64918441843\n",
            "Epoch 3: 2.237335205078125, tokens/sec: 273383.7288301995\n",
            "Epoch 4: 2.0667202472686768, tokens/sec: 272484.9087255522\n",
            "Epoch 5: 1.7315090894699097, tokens/sec: 272425.1495577888\n",
            "Epoch 6: 1.2629987001419067, tokens/sec: 272283.08832106495\n",
            "Epoch 7: 0.581566333770752, tokens/sec: 270345.96389223\n",
            "Epoch 8: 0.18816865980625153, tokens/sec: 272594.23543405253\n",
            "Epoch 9: 0.0866984948515892, tokens/sec: 271848.1011376313\n",
            "l=10, accuracy=0.846875\n",
            "l=50, accuracy=0.9871875\n",
            "l=100, accuracy=0.99875\n",
            "l=105, accuracy=0.9677827380952381\n",
            "  l=105, excess accuracy=0.3828125\n",
            "l=110, accuracy=0.9316761363636363\n",
            "  l=110, excess accuracy=0.28046875\n",
            "l=120, accuracy=0.8673828125\n",
            "  l=120, excess accuracy=0.2203125\n",
            "l=150, accuracy=0.7188020833333333\n",
            "  l=150, excess accuracy=0.165\n",
            "\n"
          ],
          "name": "stdout"
        }
      ]
    }
  ]
}